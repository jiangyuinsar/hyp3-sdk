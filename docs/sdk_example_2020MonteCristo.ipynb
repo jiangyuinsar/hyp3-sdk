{
  "cells": [
    {
      "metadata": {
        "collapsed": true,
        "id": "zyTtxq6Ql6HZ"
      },
      "cell_type": "markdown",
      "source": [
        "[link text](https://)# Using the HyP3 SDK for Python\n",
        "\n",
        "[![Binder](https://mybinder.org/v2/gh/jiangyuinsar/hyp3-sdk/HEAD?urlpath=https%3A%2F%2Fgithub.com%2Fjiangyuinsar%2Fhyp3-sdk%2Fblob%2Fdevelop%2Fdocs%2Fsdk_example_2020MonteCristo.ipynb)\n",
        "\n",
        "HyP3's Python SDK `hyp3_sdk` provides a convenience wrapper around the HyP3 API and HyP3 jobs.\n",
        "\n",
        "\n",
        "The HyP3 SDK can be installed using [Anaconda/Miniconda](https://docs.conda.io/projects/conda/en/latest/user-guide/install/download.html#anaconda-or-miniconda)\n",
        " (recommended) via [`conda`](https://anaconda.org/conda-forge/hyp3_sdk):\n",
        "\n",
        "```\n",
        "conda install -c conda-forge hyp3_sdk\n",
        "```\n",
        "\n",
        "Or using [`pip`](https://pypi.org/project/hyp3-sdk/):\n",
        "\n",
        "```\n",
        "python -m pip install hyp3_sdk\n",
        "```\n",
        "\n",
        "Full documentation of the SDK can be found in the [HyP3 documentation](https://hyp3-docs.asf.alaska.edu/using/sdk/)"
      ]
    },
    {
      "cell_type": "code",
      "source": [
        "!pip install hyp3_sdk"
      ],
      "metadata": {
        "colab": {
          "base_uri": "https://localhost:8080/"
        },
        "id": "XT50mqYTmFfV",
        "outputId": "2e369912-bd8e-480a-bee8-a4ca2c20d546"
      },
      "execution_count": null,
      "outputs": [
        {
          "output_type": "stream",
          "name": "stdout",
          "text": [
            "Collecting hyp3_sdk\n",
            "  Downloading hyp3_sdk-0.3.0-py3-none-any.whl (9.3 kB)\n",
            "Requirement already satisfied: python-dateutil in /usr/local/lib/python3.7/dist-packages (from hyp3_sdk) (2.8.2)\n",
            "Requirement already satisfied: urllib3 in /usr/local/lib/python3.7/dist-packages (from hyp3_sdk) (1.24.3)\n",
            "Requirement already satisfied: importlib-metadata in /usr/local/lib/python3.7/dist-packages (from hyp3_sdk) (4.10.1)\n",
            "Requirement already satisfied: requests in /usr/local/lib/python3.7/dist-packages (from hyp3_sdk) (2.23.0)\n",
            "Requirement already satisfied: zipp>=0.5 in /usr/local/lib/python3.7/dist-packages (from importlib-metadata->hyp3_sdk) (3.7.0)\n",
            "Requirement already satisfied: typing-extensions>=3.6.4 in /usr/local/lib/python3.7/dist-packages (from importlib-metadata->hyp3_sdk) (3.10.0.2)\n",
            "Requirement already satisfied: six>=1.5 in /usr/local/lib/python3.7/dist-packages (from python-dateutil->hyp3_sdk) (1.15.0)\n",
            "Requirement already satisfied: certifi>=2017.4.17 in /usr/local/lib/python3.7/dist-packages (from requests->hyp3_sdk) (2021.10.8)\n",
            "Requirement already satisfied: idna<3,>=2.5 in /usr/local/lib/python3.7/dist-packages (from requests->hyp3_sdk) (2.10)\n",
            "Requirement already satisfied: chardet<4,>=3.0.2 in /usr/local/lib/python3.7/dist-packages (from requests->hyp3_sdk) (3.0.4)\n",
            "Installing collected packages: hyp3-sdk\n",
            "Successfully installed hyp3-sdk-0.3.0\n"
          ]
        }
      ]
    },
    {
      "metadata": {
        "trusted": true,
        "colab": {
          "base_uri": "https://localhost:8080/",
          "height": 484
        },
        "id": "iWPQS5D4l6Hb",
        "outputId": "712b64b9-543e-4f58-a6c2-4beb9861abd3"
      },
      "cell_type": "code",
      "source": [
        "# initial setup\n",
        "import hyp3_sdk\n",
        "from hyp3_sdk import asf_search"
      ],
      "execution_count": null,
      "outputs": [
        {
          "output_type": "error",
          "ename": "ImportError",
          "evalue": "ignored",
          "traceback": [
            "\u001b[0;31m---------------------------------------------------------------------------\u001b[0m",
            "\u001b[0;31mImportError\u001b[0m                               Traceback (most recent call last)",
            "\u001b[0;32m<ipython-input-3-0ef3657687aa>\u001b[0m in \u001b[0;36m<module>\u001b[0;34m()\u001b[0m\n\u001b[1;32m      1\u001b[0m \u001b[0;31m# initial setup\u001b[0m\u001b[0;34m\u001b[0m\u001b[0;34m\u001b[0m\u001b[0;34m\u001b[0m\u001b[0m\n\u001b[0;32m----> 2\u001b[0;31m \u001b[0;32mimport\u001b[0m \u001b[0mhyp3_sdk\u001b[0m\u001b[0;34m\u001b[0m\u001b[0;34m\u001b[0m\u001b[0m\n\u001b[0m\u001b[1;32m      3\u001b[0m \u001b[0;32mfrom\u001b[0m \u001b[0mhyp3_sdk\u001b[0m \u001b[0;32mimport\u001b[0m \u001b[0masf_search\u001b[0m\u001b[0;34m\u001b[0m\u001b[0;34m\u001b[0m\u001b[0m\n",
            "\u001b[0;32m/usr/local/lib/python3.7/dist-packages/hyp3_sdk/__init__.py\u001b[0m in \u001b[0;36m<module>\u001b[0;34m()\u001b[0m\n\u001b[1;32m      5\u001b[0m \u001b[0;34m\u001b[0m\u001b[0m\n\u001b[1;32m      6\u001b[0m \u001b[0;32mfrom\u001b[0m \u001b[0;34m.\u001b[0m\u001b[0mconfig\u001b[0m \u001b[0;32mimport\u001b[0m \u001b[0mTESTING\u001b[0m  \u001b[0;31m# noqa\u001b[0m\u001b[0;34m\u001b[0m\u001b[0;34m\u001b[0m\u001b[0m\n\u001b[0;32m----> 7\u001b[0;31m \u001b[0;32mfrom\u001b[0m \u001b[0;34m.\u001b[0m\u001b[0mhyp3\u001b[0m \u001b[0;32mimport\u001b[0m \u001b[0mHYP3_PROD\u001b[0m\u001b[0;34m,\u001b[0m \u001b[0mHYP3_TEST\u001b[0m\u001b[0;34m,\u001b[0m \u001b[0mHyP3\u001b[0m\u001b[0;34m\u001b[0m\u001b[0;34m\u001b[0m\u001b[0m\n\u001b[0m\u001b[1;32m      8\u001b[0m \u001b[0;32mfrom\u001b[0m \u001b[0;34m.\u001b[0m\u001b[0mjobs\u001b[0m \u001b[0;32mimport\u001b[0m \u001b[0mBatch\u001b[0m\u001b[0;34m,\u001b[0m \u001b[0mJob\u001b[0m\u001b[0;34m\u001b[0m\u001b[0;34m\u001b[0m\u001b[0m\n\u001b[1;32m      9\u001b[0m \u001b[0;34m\u001b[0m\u001b[0m\n",
            "\u001b[0;32m/usr/local/lib/python3.7/dist-packages/hyp3_sdk/hyp3.py\u001b[0m in \u001b[0;36m<module>\u001b[0;34m()\u001b[0m\n\u001b[1;32m      1\u001b[0m \u001b[0;32mimport\u001b[0m \u001b[0mtime\u001b[0m\u001b[0;34m\u001b[0m\u001b[0;34m\u001b[0m\u001b[0m\n\u001b[1;32m      2\u001b[0m \u001b[0;32mfrom\u001b[0m \u001b[0mdatetime\u001b[0m \u001b[0;32mimport\u001b[0m \u001b[0mdatetime\u001b[0m\u001b[0;34m,\u001b[0m \u001b[0mtimedelta\u001b[0m\u001b[0;34m\u001b[0m\u001b[0;34m\u001b[0m\u001b[0m\n\u001b[0;32m----> 3\u001b[0;31m \u001b[0;32mfrom\u001b[0m \u001b[0mfunctools\u001b[0m \u001b[0;32mimport\u001b[0m \u001b[0msingledispatchmethod\u001b[0m\u001b[0;34m\u001b[0m\u001b[0;34m\u001b[0m\u001b[0m\n\u001b[0m\u001b[1;32m      4\u001b[0m \u001b[0;32mfrom\u001b[0m \u001b[0mtyping\u001b[0m \u001b[0;32mimport\u001b[0m \u001b[0mOptional\u001b[0m\u001b[0;34m,\u001b[0m \u001b[0mUnion\u001b[0m\u001b[0;34m\u001b[0m\u001b[0;34m\u001b[0m\u001b[0m\n\u001b[1;32m      5\u001b[0m \u001b[0;32mfrom\u001b[0m \u001b[0murllib\u001b[0m\u001b[0;34m.\u001b[0m\u001b[0mparse\u001b[0m \u001b[0;32mimport\u001b[0m \u001b[0murljoin\u001b[0m\u001b[0;34m\u001b[0m\u001b[0;34m\u001b[0m\u001b[0m\n",
            "\u001b[0;31mImportError\u001b[0m: cannot import name 'singledispatchmethod' from 'functools' (/usr/lib/python3.7/functools.py)",
            "",
            "\u001b[0;31m---------------------------------------------------------------------------\u001b[0;32m\nNOTE: If your import is failing due to a missing package, you can\nmanually install dependencies using either !pip or !apt.\n\nTo view examples of installing some common dependencies, click the\n\"Open Examples\" button below.\n\u001b[0;31m---------------------------------------------------------------------------\u001b[0m\n"
          ],
          "errorDetails": {
            "actions": [
              {
                "action": "open_url",
                "actionText": "Open Examples",
                "url": "/notebooks/snippets/importing_libraries.ipynb"
              }
            ]
          }
        }
      ]
    },
    {
      "metadata": {
        "id": "BqQIM1W8l6Hd"
      },
      "cell_type": "markdown",
      "source": [
        "## Authenticating to the API\n",
        "\n",
        "The SDK will attempt to pull your [NASA Earthdata Login](https://urs.earthdata.nasa.gov/) credentials out of `~/.netrc`\n",
        "by default, or you can pass your credentials in directly"
      ]
    },
    {
      "metadata": {
        "trusted": false,
        "id": "ZUCbCnkdl6He"
      },
      "cell_type": "code",
      "source": [
        "# .netrc\n",
        "hyp3 = sdk.HyP3()"
      ],
      "execution_count": null,
      "outputs": []
    },
    {
      "metadata": {
        "trusted": false,
        "id": "wHdoqb8xl6He"
      },
      "cell_type": "code",
      "source": [
        "# or enter your credentials\n",
        "hyp3 = sdk.HyP3(prompt=True)"
      ],
      "execution_count": null,
      "outputs": []
    },
    {
      "metadata": {
        "id": "i73tcszpl6He"
      },
      "cell_type": "markdown",
      "source": [
        "## Submitting jobs\n",
        "\n",
        "The SDK provides a submit method for [all supported job types](https://hyp3-docs.asf.alaska.edu/products/).\n",
        "\n",
        "### Submitting Sentinel-1 RTC jobs\n",
        "\n",
        "Sentinel-1 Radiometric Terrain Correction (RTC) jobs are submitted using [ESA granule IDs](https://sentinel.esa.int/web/sentinel/user-guides/sentinel-1-sar/naming-conventions).\n",
        "The example granules below can be viewed  in [ASF Search here](https://search.asf.alaska.edu/#/?zoom=7.08772014623877&center=-141.733866,58.498008&resultsLoaded=true&granule=S1A_IW_SLC__1SDV_20210214T154835_20210214T154901_036588_044C54_8494-SLC&searchType=List%20Search&searchList=S1A_IW_SLC__1SDV_20210214T154835_20210214T154901_036588_044C54_8494-SLC,S1B_IW_SLC__1SDV_20210210T153131_20210210T153159_025546_030B48_B568-SLC,S1A_IW_SLC__1SDV_20210210T025526_20210210T025553_036522_0449E2_7769-SLC,S1A_IW_SLC__1SDV_20210210T025501_20210210T025528_036522_0449E2_3917-SLC,S1B_IW_SLC__1SDV_20210209T030255_20210209T030323_025524_030A8D_7E88-SLC,S1B_IW_SLC__1SDV_20210209T030227_20210209T030257_025524_030A8D_5BAF-SLC,S1A_IW_SLC__1SDV_20210202T154835_20210202T154902_036413_044634_01A1-SLC)."
      ]
    },
    {
      "metadata": {
        "trusted": false,
        "id": "VkYkkXX8l6He"
      },
      "cell_type": "code",
      "source": [
        "granules = [\n",
        "    'S1A_IW_SLC__1SDV_20210214T154835_20210214T154901_036588_044C54_8494',\n",
        "    'S1B_IW_SLC__1SDV_20210210T153131_20210210T153159_025546_030B48_B568',\n",
        "    'S1A_IW_SLC__1SDV_20210210T025526_20210210T025553_036522_0449E2_7769',\n",
        "    'S1A_IW_SLC__1SDV_20210210T025501_20210210T025528_036522_0449E2_3917',\n",
        "    'S1B_IW_SLC__1SDV_20210209T030255_20210209T030323_025524_030A8D_7E88',\n",
        "    'S1B_IW_SLC__1SDV_20210209T030227_20210209T030257_025524_030A8D_5BAF',\n",
        "    'S1A_IW_SLC__1SDV_20210202T154835_20210202T154902_036413_044634_01A1',\n",
        "]\n",
        "\n",
        "\n",
        "rtc_jobs = sdk.Batch()\n",
        "for g in granules:\n",
        "    rtc_jobs += hyp3.submit_rtc_job(g, name='rtc-example')\n",
        "print(rtc_jobs)"
      ],
      "execution_count": null,
      "outputs": []
    },
    {
      "metadata": {
        "id": "i8mpyeRGl6Hf"
      },
      "cell_type": "markdown",
      "source": [
        "Here we've given each job the name `rtc-example`, which we can use later to search for these jobs.\n",
        "\n",
        "`HyP3.submit_rtc_job` also accepts\n",
        "[keyword arguments](https://hyp3-docs.asf.alaska.edu/using/sdk_api/#hyp3_sdk.hyp3.HyP3.submit_rtc_job)\n",
        "to customize the RTC products to your application."
      ]
    },
    {
      "metadata": {
        "pycharm": {
          "name": "#%% md\n"
        },
        "id": "cYHafZi3l6Hf"
      },
      "cell_type": "markdown",
      "source": [
        "### Submitting Sentinel-1 InSAR jobs\n",
        "\n",
        "The SDK can also submit Sentinel-1 Interferometric Synthetic Aperture Radar (InSAR) jobs. Using the example granule list\n",
        "for our RTC jobs as the reference scenes, we can find their nearest and next-nearest neighbor granules, and submit them\n",
        "as pairs for InSAR processing.\n"
      ]
    },
    {
      "metadata": {
        "trusted": false,
        "id": "1czEseqQl6Hf"
      },
      "cell_type": "code",
      "source": [
        "from tqdm.auto import tqdm  # For a nice progress bar: https://github.com/tqdm/tqdm#ipython-jupyter-integration\n",
        "\n",
        "insar_jobs = sdk.Batch()\n",
        "for reference in tqdm(granules):\n",
        "    neighbors_metadata = asf_search.get_nearest_neighbors(reference, max_neighbors=2)\n",
        "    for secondary_metadata in neighbors_metadata:\n",
        "        insar_jobs += hyp3.submit_insar_job(reference, secondary_metadata['granuleName'], name='insar-example')\n",
        "print(insar_jobs)"
      ],
      "execution_count": null,
      "outputs": []
    },
    {
      "metadata": {
        "pycharm": {
          "name": "#%% md\n"
        },
        "id": "1EoOpJT9l6Hg"
      },
      "cell_type": "markdown",
      "source": [
        "Like RTC jobs, `HyP3.submit_insar_job` accepts\n",
        "[keyword arguments](https://hyp3-docs.asf.alaska.edu/using/sdk_api/#hyp3_sdk.hyp3.HyP3.submit_insar_job)\n",
        "to customize the InSAR products to your application."
      ]
    },
    {
      "metadata": {
        "id": "V8RADx31l6Hg"
      },
      "cell_type": "markdown",
      "source": [
        "### Submitting autoRIFT jobs\n",
        "\n",
        "AutoRIFT supports processing Sentinel-1, Sentinel-2, or Landsat-8 Collection 2 pairs.\n",
        "* Sentinel-1 jobs are submitted using [ESA granule IDs](https://sentinel.esa.int/web/sentinel/user-guides/sentinel-1-sar/naming-conventions)\n",
        "* Sentinel-2 jobs can be submitted using either [ESA granule IDs](https://sentinel.esa.int/web/sentinel/user-guides/sentinel-2-msi/naming-convention)\n",
        "  or [Element 84 Earth Search IDs](https://registry.opendata.aws/sentinel-2/)\n",
        "* Landsat-8 Collection 2 jobs are submitted using [USGS scene IDs](https://www.usgs.gov/faqs/what-naming-convention-landsat-collection-2-level-1-and-level-2-scenes?qt-news_science_products=0#qt-news_science_products)"
      ]
    },
    {
      "metadata": {
        "trusted": false,
        "id": "uMTm2vaPl6Hg"
      },
      "cell_type": "code",
      "source": [
        "autorift_pairs = [\n",
        "    # Sentinel-1 ESA granule IDs\n",
        "    ('S1A_IW_SLC__1SSH_20170221T204710_20170221T204737_015387_0193F6_AB07',\n",
        "     'S1B_IW_SLC__1SSH_20170227T204628_20170227T204655_004491_007D11_6654'),\n",
        "    # Sentinel-2 ESA granule IDs\n",
        "    ('S2B_MSIL1C_20200612T150759_N0209_R025_T22WEB_20200612T184700',\n",
        "     'S2A_MSIL1C_20200627T150921_N0209_R025_T22WEB_20200627T170912'),\n",
        "    # Sentinel-2 Element 84 Earth Search ID\n",
        "    ('S2B_22WEB_20200612_0_L1C', 'S2A_22WEB_20200627_0_L1C'),\n",
        "    # Landsat 8\n",
        "    ('LC08_L1TP_009011_20200703_20200913_02_T1',\n",
        "     'LC08_L1TP_009011_20200820_20200905_02_T1'),\n",
        "]\n",
        "\n",
        "autorift_jobs = sdk.Batch()\n",
        "for reference, secondary in autorift_pairs:\n",
        "    autorift_jobs += hyp3.submit_autorift_job(reference, secondary, name='autorift-example')\n",
        "print(autorift_jobs)"
      ],
      "execution_count": null,
      "outputs": []
    },
    {
      "metadata": {
        "id": "bJZp3nb_l6Hg"
      },
      "cell_type": "markdown",
      "source": [
        "AutoRIFT does not currently accept any keyword arguments for product customization.\n",
        "\n",
        "## Monitoring jobs\n",
        "\n",
        "One jobs are submitted, you can either watch the jobs until they finish"
      ]
    },
    {
      "metadata": {
        "trusted": false,
        "id": "IbGj6aDJl6Hh"
      },
      "cell_type": "code",
      "source": [
        "rtc_jobs = hyp3.watch(rtc_jobs)"
      ],
      "execution_count": null,
      "outputs": []
    },
    {
      "metadata": {
        "id": "NEkuw6Uml6Hh"
      },
      "cell_type": "markdown",
      "source": [
        "which will require you to keep the cell/terminal running, or you can come back later and search for jobs"
      ]
    },
    {
      "metadata": {
        "trusted": false,
        "id": "NZXkdMkbl6Hh"
      },
      "cell_type": "code",
      "source": [
        "rtc_jobs = hyp3.find_jobs(name='rtc-example')\n",
        "rtc_jobs = hyp3.watch(rtc_jobs)"
      ],
      "execution_count": null,
      "outputs": []
    },
    {
      "metadata": {
        "id": "-8r4UQvgl6Hh"
      },
      "cell_type": "markdown",
      "source": [
        "### Downloading files\n",
        "\n",
        "Batches are collections of jobs. They provide a snapshot of the job status when the job was created or last\n",
        "refreshed. To get updated information on a batch"
      ]
    },
    {
      "metadata": {
        "trusted": false,
        "id": "sjYFn3BQl6Hh"
      },
      "cell_type": "code",
      "source": [
        "print(insar_jobs)\n",
        "insar_jobs = hyp3.refresh(insar_jobs)\n",
        "print(insar_jobs)"
      ],
      "execution_count": null,
      "outputs": []
    },
    {
      "metadata": {
        "id": "-xlzBXxCl6Hi"
      },
      "cell_type": "markdown",
      "source": [
        "`hyp3.watch()` will return a refreshed batch once every job in the batch has completed.\n",
        "\n",
        "Batches can be added together"
      ]
    },
    {
      "metadata": {
        "trusted": false,
        "id": "IElm1XNZl6Hi"
      },
      "cell_type": "code",
      "source": [
        "print(f'Number of Jobs:\\n  RTC:{len(rtc_jobs)}\\n  InSAR:{len(insar_jobs)}\\n  autoRIFT:{len(autorift_jobs)}')\n",
        "all_jobs = rtc_jobs + insar_jobs + autorift_jobs\n",
        "print(f'Total number of Jobs: {len(all_jobs)}')"
      ],
      "execution_count": null,
      "outputs": []
    },
    {
      "metadata": {
        "id": "QlzXn6oAl6Hi"
      },
      "cell_type": "markdown",
      "source": [
        "You can check the status of a batch (at last refresh) by printing the batch"
      ]
    },
    {
      "metadata": {
        "trusted": false,
        "id": "ygr98U5rl6Hi"
      },
      "cell_type": "code",
      "source": [
        "print(all_jobs)"
      ],
      "execution_count": null,
      "outputs": []
    },
    {
      "metadata": {
        "id": "DJou2MuAl6Hi"
      },
      "cell_type": "markdown",
      "source": [
        "and filter jobs by status"
      ]
    },
    {
      "metadata": {
        "trusted": false,
        "id": "bzRKUGepl6Hj"
      },
      "cell_type": "code",
      "source": [
        "succeeded_jobs = all_jobs.filter_jobs(succeeded=True, running=False, failed=False)\n",
        "print(f'Number of succeeded jobs: {len(succeeded_jobs)}')\n",
        "failed_jobs = all_jobs.filter_jobs(succeeded=False, running=False, failed=True)\n",
        "print(f'Number of failed jobs: {len(failed_jobs)}')"
      ],
      "execution_count": null,
      "outputs": []
    },
    {
      "metadata": {
        "id": "zT1cnNZXl6Hj"
      },
      "cell_type": "markdown",
      "source": [
        "You can download the files for all successful jobs"
      ]
    },
    {
      "metadata": {
        "trusted": false,
        "id": "dR9NLzsCl6Hj"
      },
      "cell_type": "code",
      "source": [
        "file_list = succeeded_jobs.download_files()"
      ],
      "execution_count": null,
      "outputs": []
    },
    {
      "metadata": {
        "id": "FLjzW_bnl6Hj"
      },
      "cell_type": "markdown",
      "source": [
        "*Note: only succeeded jobs will have files to download.*"
      ]
    }
  ],
  "metadata": {
    "kernelspec": {
      "name": "python3",
      "display_name": "Python 3 (ipykernel)",
      "language": "python"
    },
    "language_info": {
      "name": "python",
      "version": "3.10.0",
      "mimetype": "text/x-python",
      "codemirror_mode": {
        "name": "ipython",
        "version": 3
      },
      "pygments_lexer": "ipython3",
      "nbconvert_exporter": "python",
      "file_extension": ".py"
    },
    "colab": {
      "name": "sdk_example.ipynb",
      "provenance": [],
      "collapsed_sections": []
    }
  },
  "nbformat": 4,
  "nbformat_minor": 0
}