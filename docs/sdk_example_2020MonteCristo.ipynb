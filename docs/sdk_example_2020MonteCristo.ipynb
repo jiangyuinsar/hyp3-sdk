{
  "cells": [
    {
      "cell_type": "markdown",
      "metadata": {
        "collapsed": true,
        "id": "wt7GcnJgVMiy"
      },
      "source": [
        "# Using the HyP3 SDK for Python\n",
        "\n",
        "[![Binder](https://mybinder.org/badge_logo.svg)](https://mybinder.org/v2/gh/jiangyuinsar/hyp3-sdk/develop?filepath=docs%2Fsdk_example_2020MonteCristo.ipynb)\n",
        "\n",
        "HyP3's Python SDK `hyp3_sdk` provides a convenience wrapper around the HyP3 API and HyP3 jobs.\n",
        "\n",
        "\n",
        "The HyP3 SDK can be installed using [Anaconda/Miniconda](https://docs.conda.io/projects/conda/en/latest/user-guide/install/download.html#anaconda-or-miniconda)\n",
        " (recommended) via [`conda`](https://anaconda.org/conda-forge/hyp3_sdk):\n",
        "\n",
        "```\n",
        "conda install -c conda-forge hyp3_sdk\n",
        "```\n",
        "\n",
        "Or using [`pip`](https://pypi.org/project/hyp3-sdk/):\n",
        "\n",
        "```\n",
        "python -m pip install hyp3_sdk\n",
        "```\n",
        "\n",
        "Full documentation of the SDK can be found in the [HyP3 documentation](https://hyp3-docs.asf.alaska.edu/using/sdk/)"
      ]
    },
    {
      "cell_type": "code",
      "execution_count": null,
      "metadata": {
        "id": "4-v0Me3UVMi0"
      },
      "outputs": [],
      "source": [
        "# initial setup\n",
        "!pip install hyp3_sdk\n",
        "import hyp3_sdk as sdk\n",
        "from hyp3_sdk import asf_search"
      ]
    },
    {
      "cell_type": "markdown",
      "metadata": {
        "id": "BItbSh8LVMi1"
      },
      "source": [
        "## Authenticating to the API\n",
        "\n",
        "The SDK will attempt to pull your [NASA Earthdata Login](https://urs.earthdata.nasa.gov/) credentials out of `~/.netrc`\n",
        "by default, or you can pass your credentials in directly"
      ]
    },
    {
      "cell_type": "code",
      "execution_count": null,
      "metadata": {
        "id": "IP3peUT0VMi2"
      },
      "outputs": [],
      "source": [
        "# enter your credentials\n",
        "hyp3 = sdk.HyP3(prompt=True)"
      ]
    },
    {
      "cell_type": "markdown",
      "metadata": {
        "pycharm": {
          "name": "#%% md\n"
        },
        "id": "_vMu9agsVMi3"
      },
      "source": [
        "## Submitting jobs\n",
        "\n",
        "The SDK provides a submit method for [all supported job types](https://hyp3-docs.asf.alaska.edu/products/).\n",
        "\n",
        "### Submitting Sentinel-1 InSAR jobs\n",
        "\n",
        "The SDK can also submit Sentinel-1 Interferometric Synthetic Aperture Radar (InSAR) jobs. Using the example granule list\n",
        "for our RTC jobs as the reference scenes, we can find their nearest and next-nearest neighbor granules, and submit them\n",
        "as pairs for InSAR processing.\n"
      ]
    },
    {
      "cell_type": "code",
      "execution_count": null,
      "metadata": {
        "id": "mDD-rZS6VMi4"
      },
      "outputs": [],
      "source": [
        "pairs = [('S1A_IW_SLC__1SDV_20200429T135117_20200429T135144_032343_03BE57_E7C0', 'S1A_IW_SLC__1SDV_20200511T135117_20200511T135144_032518_03C421_7768'),\n",
        "         ('S1A_IW_SLC__1SDV_20200429T135117_20200429T135144_032343_03BE57_E7C0', 'S1A_IW_SLC__1SDV_20200523T135118_20200523T135145_032693_03C96E_C56D'),\n",
        "         ('S1A_IW_SLC__1SDV_20200429T135117_20200429T135144_032343_03BE57_E7C0', 'S1A_IW_SLC__1SDV_20200604T135118_20200604T135145_032868_03CE9E_1538'), \n",
        "         ('S1A_IW_SLC__1SDV_20200429T135117_20200429T135144_032343_03BE57_E7C0', 'S1A_IW_SLC__1SDV_20200616T135119_20200616T135146_033043_03D3DF_94E7'), \n",
        "         ('S1A_IW_SLC__1SDV_20200511T135117_20200511T135144_032518_03C421_7768', 'S1A_IW_SLC__1SDV_20200523T135118_20200523T135145_032693_03C96E_C56D'), \n",
        "         ('S1A_IW_SLC__1SDV_20200511T135117_20200511T135144_032518_03C421_7768', 'S1A_IW_SLC__1SDV_20200604T135118_20200604T135145_032868_03CE9E_1538'), \n",
        "         ('S1A_IW_SLC__1SDV_20200511T135117_20200511T135144_032518_03C421_7768', 'S1A_IW_SLC__1SDV_20200616T135119_20200616T135146_033043_03D3DF_94E7'), \n",
        "         ('S1A_IW_SLC__1SDV_20200523T135118_20200523T135145_032693_03C96E_C56D', 'S1A_IW_SLC__1SDV_20200604T135118_20200604T135145_032868_03CE9E_1538'), \n",
        "         ('S1A_IW_SLC__1SDV_20200523T135118_20200523T135145_032693_03C96E_C56D', 'S1A_IW_SLC__1SDV_20200616T135119_20200616T135146_033043_03D3DF_94E7'), \n",
        "         ('S1A_IW_SLC__1SDV_20200604T135118_20200604T135145_032868_03CE9E_1538', 'S1A_IW_SLC__1SDV_20200616T135119_20200616T135146_033043_03D3DF_94E7')]\n",
        "\n",
        "insar_jobs = []\n",
        "place_energetic_event = place_for_asf_max_events[event_id_energetic_event]\n",
        "project_name = '2020 Monte Cristo Range'\n",
        "for pair in pairs:\n",
        "    reference_granule = pair[0]\n",
        "    secondary_granule = pair[1]\n",
        "    insar_jobs += hyp3.submit_insar_job(reference_granule, secondary_granule,\n",
        "                                        name=project_name, include_look_vectors=True,\n",
        "                                        include_dem=True)\n",
        "print(insar_jobs)"
      ]
    },
    {
      "cell_type": "markdown",
      "metadata": {
        "id": "yZAf7f-4VMi5"
      },
      "source": [
        "AutoRIFT does not currently accept any keyword arguments for product customization.\n",
        "\n",
        "## Monitoring jobs\n",
        "\n",
        "One jobs are submitted, you can either watch the jobs until they finish"
      ]
    },
    {
      "cell_type": "markdown",
      "metadata": {
        "id": "-SNF8n3nVMi6"
      },
      "source": [
        "which will require you to keep the cell/terminal running, or you can come back later and search for jobs"
      ]
    },
    {
      "cell_type": "code",
      "execution_count": null,
      "metadata": {
        "id": "8H_KGXtCVMi6"
      },
      "outputs": [],
      "source": [
        "batch = hyp3.find_jobs(name=project_name)\n",
        "\n",
        "if batch.complete():\n",
        "    #filter to only succeeded jobs\n",
        "    succeeded_jobs = batch.filter_jobs(succeeded=True, running=False, failed=False)\n",
        "\n",
        "    #download files if not downloaded already\n",
        "    for job in succeeded_jobs.jobs:\n",
        "        filename = job.to_dict()['files'][0]['filename']\n",
        "        location = os.path.join(project_name,filename)\n",
        "        if not os.path.exists(location):\n",
        "            job.download_files(location=project_name,create=True)\n",
        "        \n",
        "    # #download files if not downloaded already\n",
        "    # file_list = succeeded_jobs.download_files(location=project_name,create=True)\n",
        "else:\n",
        "    #to get updated information\n",
        "    batch = hyp3.refresh(batch)\n",
        "    #or to wait until completion and get updated information (which will take a fair bit)\n",
        "    batch = hyp3.watch(batch)"
      ]
    },
    {
      "cell_type": "markdown",
      "metadata": {
        "id": "L8Hbrb9uVMi6"
      },
      "source": [
        "### Downloading files\n",
        "\n",
        "Batches are collections of jobs. They provide a snapshot of the job status when the job was created or last\n",
        "refreshed. To get updated information on a batch"
      ]
    },
    {
      "cell_type": "code",
      "execution_count": null,
      "metadata": {
        "id": "tQly9G_5VMi6"
      },
      "outputs": [],
      "source": [
        "print(insar_jobs)\n",
        "insar_jobs = hyp3.refresh(insar_jobs)\n",
        "print(insar_jobs)"
      ]
    },
    {
      "cell_type": "markdown",
      "metadata": {
        "id": "f5flhAldVMi7"
      },
      "source": [
        "`hyp3.watch()` will return a refreshed batch once every job in the batch has completed.\n",
        "\n",
        "Batches can be added together"
      ]
    },
    {
      "cell_type": "code",
      "execution_count": null,
      "metadata": {
        "id": "Civ-fZEHVMi7"
      },
      "outputs": [],
      "source": [
        "print(f'Number of Jobs:\\n  RTC:{len(rtc_jobs)}\\n  InSAR:{len(insar_jobs)}\\n  autoRIFT:{len(autorift_jobs)}')\n",
        "all_jobs = rtc_jobs + insar_jobs + autorift_jobs\n",
        "print(f'Total number of Jobs: {len(all_jobs)}')"
      ]
    },
    {
      "cell_type": "markdown",
      "metadata": {
        "id": "WC7S_4NuVMi7"
      },
      "source": [
        "You can check the status of a batch (at last refresh) by printing the batch"
      ]
    },
    {
      "cell_type": "code",
      "execution_count": null,
      "metadata": {
        "id": "oijGZta-VMi7"
      },
      "outputs": [],
      "source": [
        "print(all_jobs)"
      ]
    },
    {
      "cell_type": "markdown",
      "metadata": {
        "id": "yMlQUkbFVMi7"
      },
      "source": [
        "and filter jobs by status"
      ]
    },
    {
      "cell_type": "code",
      "execution_count": null,
      "metadata": {
        "id": "283_T3EvVMi8"
      },
      "outputs": [],
      "source": [
        "succeeded_jobs = all_jobs.filter_jobs(succeeded=True, running=False, failed=False)\n",
        "print(f'Number of succeeded jobs: {len(succeeded_jobs)}')\n",
        "failed_jobs = all_jobs.filter_jobs(succeeded=False, running=False, failed=True)\n",
        "print(f'Number of failed jobs: {len(failed_jobs)}')"
      ]
    },
    {
      "cell_type": "markdown",
      "metadata": {
        "id": "k9HWahKXVMi8"
      },
      "source": [
        "You can download the files for all successful jobs"
      ]
    },
    {
      "cell_type": "code",
      "execution_count": null,
      "metadata": {
        "id": "WRXGKg7LVMi8"
      },
      "outputs": [],
      "source": [
        "file_list = succeeded_jobs.download_files()"
      ]
    },
    {
      "cell_type": "markdown",
      "metadata": {
        "id": "6121z0QdVMi8"
      },
      "source": [
        "*Note: only succeeded jobs will have files to download.*"
      ]
    }
  ],
  "metadata": {
    "kernelspec": {
      "display_name": "Python 3",
      "language": "python",
      "name": "python3"
    },
    "language_info": {
      "codemirror_mode": {
        "name": "ipython",
        "version": 3
      },
      "file_extension": ".py",
      "mimetype": "text/x-python",
      "name": "python",
      "nbconvert_exporter": "python",
      "pygments_lexer": "ipython3",
      "version": "3.8.8"
    },
    "colab": {
      "name": "sdk_example_2020MonteCristo.ipynb",
      "provenance": [],
      "collapsed_sections": []
    }
  },
  "nbformat": 4,
  "nbformat_minor": 0
}